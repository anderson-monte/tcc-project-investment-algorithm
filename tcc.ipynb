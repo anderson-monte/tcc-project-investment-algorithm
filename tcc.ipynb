{
 "cells": [
  {
   "cell_type": "code",
   "execution_count": null,
   "metadata": {
    "is_executing": true
   },
   "outputs": [],
   "source": [
    "import MetaTrader5 as mt5\n",
    "import pandas as pd\n",
    "import numpy as np\n",
    "import matplotlib.pyplot as plt"
   ]
  },
  {
   "cell_type": "code",
   "execution_count": null,
   "metadata": {},
   "outputs": [],
   "source": [
    "# Conectar ao MT5\n",
    "if not mt5.initialize():\n",
    "    print(\"Falha na inicialização do MetaTrader5\")\n",
    "    mt5.shutdown()\n",
    "    quit()\n",
    "\n",
    "# Configurar o símbolo e o timeframe\n",
    "symbol = \"PETR4\"\n",
    "timeframe = mt5.TIMEFRAME_M1"
   ]
  },
  {
   "cell_type": "code",
   "execution_count": null,
   "metadata": {},
   "outputs": [],
   "source": [
    "# Definir os parâmetros do algoritmo\n",
    "ema_period_short = 12\n",
    "ema_period_long = 26\n",
    "bb_period = 20\n",
    "bb_deviation = 2\n",
    "rsi_period = 10"
   ]
  },
  {
   "cell_type": "code",
   "execution_count": null,
   "metadata": {},
   "outputs": [],
   "source": [
    "# Método para calcular a MME curta\n",
    "def calculate_ema_short(data):\n",
    "    ema_short = pd.Series(index=data.index)\n",
    "    ema_short.iloc[0] = data.iloc[0]\n",
    "    for i in range(1, len(data)):\n",
    "        ema_short.iloc[i] = (2 / (ema_period_short + 1)) * data.iloc[i] + (1 - 2 / (ema_period_short + 1)) * ema_short.iloc[i-1]\n",
    "    return ema_short\n",
    "\n",
    "# Método para calcular a MME longa\n",
    "def calculate_ema_long(data):\n",
    "    ema_long = pd.Series(index=data.index)\n",
    "    ema_long.iloc[0] = data.iloc[0]\n",
    "    for i in range(1, len(data)):\n",
    "        ema_long.iloc[i] = (2 / (ema_period_long + 1)) * data.iloc[i] + (1 - 2 / (ema_period_long + 1)) * ema_long.iloc[i-1]\n",
    "    return ema_long\n",
    "\n",
    "# Método para calcular as Bandas de Bollinger\n",
    "def calculate_bollinger_bands(data):\n",
    "    sma = data.rolling(bb_period).mean()\n",
    "    std = data.rolling(bb_period).std()\n",
    "    upper_band = sma + bb_deviation * std\n",
    "    lower_band = sma - bb_deviation * std\n",
    "    return upper_band, sma, lower_band\n",
    "\n",
    "# Método para calcular o RSI\n",
    "def calculate_rsi(data):\n",
    "    delta = data.diff()\n",
    "    gain = delta.copy()\n",
    "    gain[gain < 0] = 0\n",
    "    loss = -delta.copy()\n",
    "    loss[loss < 0] = 0\n",
    "    avg_gain = gain.rolling(rsi_period).mean()\n",
    "    avg_loss = loss.rolling(rsi_period).mean()\n",
    "    rs = avg_gain / avg_loss\n",
    "    rsi = 100 - (100 / (1 + rs))\n",
    "    return rsi"
   ]
  },
  {
   "cell_type": "code",
   "execution_count": null,
   "metadata": {},
   "outputs": [],
   "source": [
    "import pytz\n",
    "from datetime import datetime\n",
    "\n",
    "# Obter os dados do símbolo e timeframe\n",
    "# rates = mt5.copy_rates_from_pos(symbol, timeframe, 0, 200)\n",
    "\n",
    "timezone = pytz.timezone(\"America/Sao_Paulo\")\n",
    "# utc_from = datetime(2023, 5, 22, hour = 10, minute = 24, tzinfo=timezone)\n",
    "utc_from = datetime(2023, 5, 23, tzinfo=timezone)\n",
    "utc_to = datetime(2023, 5, 24, tzinfo=timezone)\n",
    "# utc_to = datetime(2023, 5, 25, hour = 10, tzinfo=timezone)\n",
    "\n",
    "rates = mt5.copy_rates_range(symbol, timeframe, utc_from, utc_to)"
   ]
  },
  {
   "cell_type": "code",
   "execution_count": null,
   "metadata": {
    "is_executing": true
   },
   "outputs": [],
   "source": [
    "# Criar um dataframe com os dados\n",
    "df = pd.DataFrame(rates)\n",
    "df['time'] = pd.to_datetime(df['time'], unit='s')\n",
    "df.set_index('time', inplace=True)"
   ]
  },
  {
   "cell_type": "code",
   "execution_count": null,
   "metadata": {},
   "outputs": [],
   "source": [
    "def ema(data):\n",
    "    ema2 = 50\n",
    "    ema_long = pd.Series(index=data.index)\n",
    "    ema_long.iloc[0] = data.iloc[0]\n",
    "    for i in range(1, len(data)):\n",
    "        ema_long.iloc[i] = (2 / (ema2 + 1)) * data.iloc[i] + (1 - 2 / (ema2 + 1)) * ema_long.iloc[i-1]\n",
    "    return ema_long"
   ]
  },
  {
   "cell_type": "code",
   "execution_count": null,
   "metadata": {},
   "outputs": [],
   "source": [
    "# Calcular os indicadores\n",
    "ema_short = calculate_ema_short(df['close'])\n",
    "ema_long = calculate_ema_long(df['close'])\n",
    "upper_band, sma, lower_band = calculate_bollinger_bands(df['close'])\n",
    "rsi = calculate_rsi(df['close'])\n",
    "# ema = ema(df['close'])\n",
    "\n",
    "df['ema_short'] = ema_short\n",
    "df['ema_long'] = ema_long\n",
    "df['upper_band'] = upper_band\n",
    "df['lower_band'] = lower_band\n",
    "df['sma'] = sma\n",
    "df['rsi'] = rsi"
   ]
  },
  {
   "cell_type": "code",
   "execution_count": null,
   "metadata": {},
   "outputs": [],
   "source": [
    "df.describe()"
   ]
  },
  {
   "cell_type": "code",
   "execution_count": null,
   "metadata": {},
   "outputs": [],
   "source": [
    "df"
   ]
  },
  {
   "cell_type": "code",
   "execution_count": null,
   "metadata": {},
   "outputs": [],
   "source": [
    "# Imprimir os resultados no console\n",
    "print(\"Preço: \\n\", df['close'])\n",
    "print(\"EMA Short: \\n\", ema_short)\n",
    "print(\"EMA Long: \\n\", ema_long)\n",
    "print(\"SMA: \\n\", sma)\n",
    "print(\"Upper Band: \\n\", upper_band)\n",
    "print(\"Lower Band: \\n\", lower_band)\n",
    "print(\"RSI: \\n\", rsi)"
   ]
  },
  {
   "cell_type": "code",
   "execution_count": null,
   "metadata": {},
   "outputs": [],
   "source": [
    "plt.figure(figsize=(20, 5))\n",
    "plt.plot(df['close'])"
   ]
  },
  {
   "cell_type": "code",
   "execution_count": null,
   "metadata": {
    "is_executing": true
   },
   "outputs": [],
   "source": [
    "#Plotar os resultados\n",
    "plt.figure(figsize=(25, 7))\n",
    "plt.plot(ema_short, color='blue')\n",
    "plt.plot(ema_long, color='black')\n",
    "plt.plot(upper_band, color='green')\n",
    "plt.plot(df['close'], color='purple')\n",
    "plt.plot(lower_band, color='red')\n",
    "# plt.plot(ema, color='red')\n",
    "plt.fill_between(df.index, lower_band, upper_band, alpha=0.1)\n",
    "plt.title('RETORNO ACUMULADO')\n",
    "plt.xlabel('Data/Hora')\n",
    "plt.ylabel('RETORNO ACUMULADO')\n",
    "plt.legend(['MME Curta', 'MME Longa', 'Banda Superior', 'Preço', 'Banda Inferior'])\n",
    "plt.show()"
   ]
  },
  {
   "cell_type": "code",
   "execution_count": null,
   "metadata": {},
   "outputs": [],
   "source": [
    "plt.figure(figsize=(25, 3))\n",
    "plt.title('RSI')\n",
    "plt.xlabel('Data/Hora')\n",
    "plt.plot(rsi, color='orange')"
   ]
  },
  {
   "cell_type": "code",
   "execution_count": null,
   "metadata": {},
   "outputs": [],
   "source": [
    "df[['close','lower_band', 'upper_band', 'ema_short', 'ema_long']].plot(figsize=(20, 6))"
   ]
  },
  {
   "cell_type": "code",
   "execution_count": null,
   "metadata": {},
   "outputs": [],
   "source": [
    "import cufflinks as cf\n",
    "cf.go_offline()"
   ]
  },
  {
   "cell_type": "code",
   "execution_count": null,
   "metadata": {},
   "outputs": [],
   "source": [
    "df.iplot(kind='candle')"
   ]
  },
  {
   "cell_type": "code",
   "execution_count": null,
   "metadata": {},
   "outputs": [],
   "source": [
    "qf = cf.QuantFig(df, title='Setup', legend='top', name='Candlestick')\n",
    "qf.add_bollinger_bands(periods=20,boll_std=2)\n",
    "qf.add_rsi(periods=20,color='java')\n",
    "qf.add_macd()\n",
    "qf.iplot()"
   ]
  },
  {
   "cell_type": "code",
   "execution_count": null,
   "metadata": {},
   "outputs": [],
   "source": [
    "#Do vídeo: df = Criando Candlestick com Python Matplotlib\n",
    "import mplfinance as mpf\n",
    "import plotly.graph_objects as go\n",
    "from plotly.subplots import make_subplots"
   ]
  },
  {
   "cell_type": "code",
   "execution_count": null,
   "metadata": {
    "is_executing": true
   },
   "outputs": [],
   "source": [
    "print(mpf.available_styles())"
   ]
  },
  {
   "cell_type": "code",
   "execution_count": null,
   "metadata": {},
   "outputs": [],
   "source": [
    "df_sem_indicadores = pd.DataFrame(rates)\n",
    "df_sem_indicadores['time'] = pd.to_datetime(df_sem_indicadores['time'], unit='s')\n",
    "df_sem_indicadores.set_index('time', inplace=True)"
   ]
  },
  {
   "cell_type": "code",
   "execution_count": null,
   "metadata": {},
   "outputs": [],
   "source": [
    "df_sem_indicadores"
   ]
  },
  {
   "cell_type": "code",
   "execution_count": null,
   "metadata": {},
   "outputs": [],
   "source": [
    "mpf.plot(df_sem_indicadores.tail(100), type='candle', figsize=(16, 8), style='yahoo')"
   ]
  },
  {
   "cell_type": "code",
   "execution_count": null,
   "metadata": {},
   "outputs": [],
   "source": [
    "df"
   ]
  },
  {
   "cell_type": "code",
   "execution_count": null,
   "metadata": {},
   "outputs": [],
   "source": [
    "df[['close','lower_band', 'upper_band', 'ema_short', 'ema_long']].plot(figsize=(20, 6))"
   ]
  },
  {
   "cell_type": "code",
   "execution_count": null,
   "metadata": {},
   "outputs": [],
   "source": [
    "plt.figure(figsize=(20, 6))\n",
    "plt.plot(rsi, color='orange')"
   ]
  },
  {
   "cell_type": "code",
   "execution_count": null,
   "outputs": [],
   "source": [
    "#Calcular os sinais de compra e venda EMA\n",
    "def ema_signal():\n",
    "    df[\"signal\"] = 0\n",
    "# df.loc[(df[\"ema_short\"] > df[\"ema_long\"]), \"signal\"] = 1\n",
    "# df.loc[(df[\"ema_short\"] < df[\"ema_long\"]), \"signal\"] = -1\n",
    "\n",
    "    df[\"signal\"] = np.where(df[\"ema_short\"] > df[\"ema_long\"], 1, np.where(df[\"ema_short\"] < df[\"ema_long\"], -1, 0))\n",
    "\n",
    "    crossings = df[\"signal\"].diff()\n",
    "    df[\"signal\"] = np.where(crossings != 0, crossings.cumsum(), 0)"
   ],
   "metadata": {
    "collapsed": false,
    "is_executing": true
   }
  },
  {
   "cell_type": "code",
   "execution_count": null,
   "metadata": {},
   "outputs": [],
   "source": [
    "# Calcular os sinais de compra e venda DE EMA + BB + RSI\n",
    "df[\"signal\"] = 0\n",
    "df.loc[(df[\"ema_short\"] > df[\"ema_long\"]) & (df[\"close\"] < df[\"lower_band\"]) & (df[\"rsi\"] < 20), \"signal\"] = 1\n",
    "df.loc[(df[\"ema_short\"] < df[\"ema_long\"]) & (df[\"close\"] > df[\"upper_band\"]) & (df[\"rsi\"] > 80), \"signal\"] = -1"
   ]
  },
  {
   "cell_type": "code",
   "execution_count": null,
   "outputs": [],
   "source": [
    "df"
   ],
   "metadata": {
    "collapsed": false
   }
  },
  {
   "cell_type": "code",
   "execution_count": null,
   "metadata": {},
   "outputs": [],
   "source": [
    "df[\"signal\"].plot(figsize=(20, 5))"
   ]
  },
  {
   "cell_type": "code",
   "execution_count": null,
   "metadata": {},
   "outputs": [],
   "source": [
    "df"
   ]
  },
  {
   "cell_type": "code",
   "execution_count": null,
   "metadata": {},
   "outputs": [],
   "source": [
    "# Calcular os sinais de compra e venda BB + RSI\n",
    "df[\"signal\"] = 0\n",
    "df.loc[(df[\"close\"] < df[\"lower_band\"]) & (df[\"rsi\"] < 20), \"signal\"] = 1\n",
    "df.loc[(df[\"close\"] > df[\"upper_band\"]) & (df[\"rsi\"] > 80), \"signal\"] = -1"
   ]
  },
  {
   "cell_type": "code",
   "execution_count": null,
   "outputs": [],
   "source": [
    "df"
   ],
   "metadata": {
    "collapsed": false
   }
  },
  {
   "cell_type": "code",
   "execution_count": null,
   "metadata": {},
   "outputs": [],
   "source": [
    "df[\"signal\"].plot(figsize=(20, 5))"
   ]
  },
  {
   "cell_type": "code",
   "execution_count": null,
   "metadata": {
    "is_executing": true
   },
   "outputs": [],
   "source": [
    "# Calcular os sinais de compra e venda EMA + RSI\n",
    "df[\"signal\"] = 0\n",
    "df.loc[(df[\"ema_short\"] > df[\"ema_long\"]) & (df[\"rsi\"] < 20), \"signal\"] = 1\n",
    "df.loc[(df[\"ema_short\"] < df[\"ema_long\"]) & (df[\"rsi\"] > 80), \"signal\"] = -1"
   ]
  },
  {
   "cell_type": "code",
   "execution_count": null,
   "metadata": {},
   "outputs": [],
   "source": [
    "df[\"signal\"].plot(figsize=(20, 5))"
   ]
  },
  {
   "cell_type": "code",
   "execution_count": null,
   "metadata": {},
   "outputs": [],
   "source": [
    "#Calcular os sinais de compra e venda EMA\n",
    "df[\"signal\"] = 0\n",
    "# df.loc[(df[\"ema_short\"] > df[\"ema_long\"]), \"signal\"] = 1\n",
    "# df.loc[(df[\"ema_short\"] < df[\"ema_long\"]), \"signal\"] = -1\n",
    "\n",
    "df[\"signal\"] = np.where(df[\"ema_short\"] > df[\"ema_long\"], 1, np.where(df[\"ema_short\"] < df[\"ema_long\"], -1, 0))\n",
    "\n",
    "crossings = df[\"signal\"].diff()\n",
    "df[\"signal\"] = np.where(crossings != 0, crossings.cumsum(), 0)"
   ]
  },
  {
   "cell_type": "code",
   "execution_count": null,
   "outputs": [],
   "source": [
    "df"
   ],
   "metadata": {
    "collapsed": false
   }
  },
  {
   "cell_type": "code",
   "execution_count": null,
   "metadata": {},
   "outputs": [],
   "source": [
    "df[\"signal\"].plot(figsize=(20, 5))"
   ]
  },
  {
   "cell_type": "code",
   "execution_count": null,
   "outputs": [],
   "source": [
    "df"
   ],
   "metadata": {
    "collapsed": false
   }
  },
  {
   "cell_type": "code",
   "execution_count": null,
   "metadata": {},
   "outputs": [],
   "source": [
    "df[['close','ema_short', 'ema_long']].plot(figsize=(20, 6))"
   ]
  },
  {
   "cell_type": "code",
   "execution_count": null,
   "metadata": {
    "is_executing": true
   },
   "outputs": [],
   "source": [
    "#Calcular os sinais de compra e venda BB\n",
    "df[\"signal\"] = 0\n",
    "df.loc[(df[\"close\"] < df[\"lower_band\"]), \"signal\"] = 1\n",
    "df.loc[(df[\"close\"] > df[\"upper_band\"]), \"signal\"] = -1"
   ]
  },
  {
   "cell_type": "code",
   "execution_count": null,
   "metadata": {},
   "outputs": [],
   "source": [
    "df[\"signal\"].plot(figsize=(20, 5))"
   ]
  },
  {
   "cell_type": "code",
   "execution_count": null,
   "outputs": [],
   "source": [
    "df"
   ],
   "metadata": {
    "collapsed": false
   }
  },
  {
   "cell_type": "code",
   "execution_count": null,
   "metadata": {},
   "outputs": [],
   "source": [
    "#Calcular os sinais de compra e venda RSI\n",
    "df[\"signal\"] = 0\n",
    "df.loc[(df[\"rsi\"] < 20), \"signal\"] = 1\n",
    "df.loc[(df[\"rsi\"] > 80), \"signal\"] = -1"
   ]
  },
  {
   "cell_type": "code",
   "execution_count": null,
   "outputs": [],
   "source": [
    "df[\"signal\"].plot(figsize=(20, 5))"
   ],
   "metadata": {
    "collapsed": false,
    "is_executing": true
   }
  },
  {
   "cell_type": "code",
   "execution_count": null,
   "metadata": {},
   "outputs": [],
   "source": [
    "df"
   ]
  },
  {
   "cell_type": "code",
   "execution_count": null,
   "metadata": {
    "is_executing": true
   },
   "outputs": [],
   "source": [
    "# import time\n",
    "#\n",
    "# lot_size = 1000\n",
    "# initial_balance = 10000\n",
    "# # lot = 0.10\n",
    "# # result = 0\n",
    "# # order = None\n",
    "# # price = None\n",
    "# request = {}\n",
    "#\n",
    "# # df['ema_short'] = df['close'].ewm(span=ema_period_short, adjust=False).mean()\n",
    "# # df['ema_long'] = df['close'].ewm(span=ema_period_long, adjust=False).mean()\n",
    "# # df['bb_upper'], df['bb_middle'], df['bb_lower'] = \\\n",
    "# #     ta.bollinger_bands(df['close'], bb_period, bb_deviation)\n",
    "# # df['rsi'] = ta.rsi(df['close'], rsi_period)\n",
    "#\n",
    "# # Definição da estratégia de investimento\n",
    "# df['signal'] = 0\n",
    "# df.loc[(df['ema_short'] > df['ema_long']) &\n",
    "#          (df['close'] < df['lower_band']) &\n",
    "#          (df['rsi'] < 30), 'signal'] = 1\n",
    "# df.loc[(df['ema_short'] < df['ema_long']) &\n",
    "#          (df['close'] > df['upper_band']) &\n",
    "#          (df['rsi'] > 70), 'signal'] = -1\n",
    "#\n",
    "# # Criação de um novo DataFrame com informações sobre as operações de compra/venda\n",
    "# positions = pd.DataFrame(index=df.index)\n",
    "# positions['signal'] = df['signal']\n",
    "# positions['close'] = df['close']\n",
    "# positions['rsi'] = df['rsi']\n",
    "# positions['bb_upper'] = df['upper_band']\n",
    "# positions['bb_middle'] = df['sma']\n",
    "# positions['bb_lower'] = df['lower_band']\n",
    "# positions['ema_short'] = df['ema_short']\n",
    "# positions['ema_long'] = df['ema_long']\n",
    "# positions['position'] = positions['signal'].diff()\n",
    "# positions['position'].iloc[0] = positions['signal'].iloc[0]\n",
    "# positions = positions[positions['position'] != 0]\n",
    "#\n",
    "# # Realização do backtesting\n",
    "# balance = initial_balance\n",
    "# trades = []\n",
    "# for i, row in positions.iterrows():\n",
    "#     print(\"aqui\")\n",
    "#     if row['position'] == 1:\n",
    "#         order = mt5.ORDER_TYPE_BUY\n",
    "#         price = mt5.symbol_info_tick(symbol).ask\n",
    "#         print(f\"Compra realizada em {i} por {price}\")\n",
    "#     elif row['position'] == -1:\n",
    "#         order = mt5.ORDER_TYPE_SELL\n",
    "#         price = mt5.symbol_info_tick(symbol).bid\n",
    "#         print(f\"Venda realizada em {i} por {price}\")\n",
    "#\n",
    "#     lot = lot_size\n",
    "#     request = {\n",
    "#         \"action\": mt5.TRADE_ACTION_DEAL,\n",
    "#         \"symbol\": symbol,\n",
    "#         \"volume\": lot,\n",
    "#         \"type\": order,\n",
    "#         \"price\": price,\n",
    "#         \"deviation\": 100,\n",
    "#         \"magic\": 123456,\n",
    "#         \"comment\": \"Python script open\",\n",
    "#         \"type_time\": mt5.ORDER_TIME_GTC,\n",
    "#         \"type_filling\": mt5.ORDER_FILLING_IOC,\n",
    "#     }\n",
    "#\n",
    "# # Envio da ordem de compra ou venda\n",
    "# result = mt5.order_send(request)\n",
    "#\n",
    "# if result.retcode != mt5.TRADE_RETCODE_DONE:\n",
    "#     print(f\"Erro ao enviar ordem: {result.comment}\")\n",
    "#\n",
    "# # Se a ordem foi enviada com sucesso, aguarda sua execução\n",
    "# while True:\n",
    "#     # Configurar o símbolo e o timeframe\n",
    "#     symbol = \"EURUSD\"\n",
    "#     timeframe = mt5.TIMEFRAME_M5\n",
    "#\n",
    "#     # Obter os dados do símbolo e timeframe\n",
    "#     rates = mt5.copy_rates_from_pos(symbol, timeframe, 0, 100)\n",
    "#\n",
    "#     # Obtém informações sobre a ordem\n",
    "#     order = mt5.orders_get(result.order)\n",
    "#\n",
    "#     print(\"ESPERANDO EXECUÇÃO DA ORDEM\")\n",
    "#\n",
    "#     if order == mt5.TRADE_RETCODE_DONE:\n",
    "#         break\n",
    "# #     time.sleep(1)ff"
   ]
  },
  {
   "cell_type": "code",
   "execution_count": null,
   "metadata": {},
   "outputs": [],
   "source": [
    "# import time\n",
    "#\n",
    "#\n",
    "# symbol = \"EURUSD\"\n",
    "# lot = 0.1\n",
    "# magic_number = 123456\n",
    "# comment = \"Signal from Python\"\n",
    "#\n",
    "# # get the current price\n",
    "# price = mt5.symbol_info_tick(symbol).ask\n",
    "#\n",
    "# # open a position\n",
    "# request = {\n",
    "#     \"action\": mt5.TRADE_ACTION_DEAL,\n",
    "#     \"symbol\": symbol,\n",
    "#     \"volume\": lot,\n",
    "#     \"type\": mt5.ORDER_TYPE_BUY,\n",
    "#     \"price\": price,\n",
    "#     \"magic\": magic_number,\n",
    "#     \"comment\": comment,\n",
    "#     \"type_time\": mt5.ORDER_TIME_GTC,\n",
    "#     \"type_filling\": mt5.ORDER_FILLING_FOK,\n",
    "# }\n",
    "# result = mt5.order_send(request)\n",
    "# if result.retcode != mt5.TRADE_RETCODE_DONE:\n",
    "#     print(\"order_send failed, retcode={}\".format(result.retcode))\n",
    "#     mt5.shutdown()\n",
    "#     quit()\n",
    "#\n",
    "# # wait for the order to be filled\n",
    "# while True:\n",
    "#     deals = mt5.history_deals_get(symbol=symbol)\n",
    "#     if len(deals) > 0:\n",
    "#         last_deal = deals[-1]\n",
    "#         if last_deal.magic == magic_number and last_deal.entry == mt5.DEAL_ENTRY_IN:\n",
    "#             print(\"Position opened: ticket={}\".format(last_deal.order))\n",
    "#             break\n",
    "#     time.sleep(1)"
   ]
  },
  {
   "cell_type": "code",
   "execution_count": null,
   "metadata": {},
   "outputs": [],
   "source": [
    "#Portfolio para backtesting\n",
    "#Setup EMA\n",
    "import vectorbt as vbt\n",
    "\n",
    "buy_signal = (df[\"ema_short\"] > df[\"ema_long\"])\n",
    "sell_signal = (df[\"ema_short\"] < df[\"ema_long\"])\n",
    "\n",
    "pf = vbt.Portfolio.from_signals(df['close'], buy_signal, sell_signal)"
   ]
  },
  {
   "cell_type": "code",
   "execution_count": null,
   "metadata": {},
   "outputs": [],
   "source": [
    "pf.plot().show()"
   ]
  },
  {
   "cell_type": "code",
   "execution_count": null,
   "metadata": {},
   "outputs": [],
   "source": [
    "pf.stats()"
   ]
  },
  {
   "cell_type": "code",
   "execution_count": null,
   "metadata": {},
   "outputs": [],
   "source": [
    "#Portifolio para trading\n",
    "#Setup RSI\n",
    "\n",
    "buy_signal = (df[\"rsi\"] < 20)\n",
    "sell_signal = (df[\"rsi\"] > 80)\n",
    "\n",
    "pf = vbt.Portfolio.from_signals(df['close'], buy_signal, sell_signal)"
   ]
  },
  {
   "cell_type": "code",
   "execution_count": null,
   "metadata": {},
   "outputs": [],
   "source": [
    "pf.plot().show()"
   ]
  },
  {
   "cell_type": "code",
   "execution_count": null,
   "metadata": {
    "is_executing": true
   },
   "outputs": [],
   "source": [
    "pf.stats()"
   ]
  },
  {
   "cell_type": "code",
   "execution_count": null,
   "metadata": {},
   "outputs": [],
   "source": [
    "buy_signal"
   ]
  },
  {
   "cell_type": "code",
   "execution_count": null,
   "metadata": {},
   "outputs": [],
   "source": [
    "#Portifolio para trading\n",
    "#Setup Bollinger Bands\n",
    "\n",
    "buy_signal = (df[\"close\"] < df[\"lower_band\"])\n",
    "sell_signal = (df[\"close\"] > df[\"upper_band\"])\n",
    "\n",
    "pf = vbt.Portfolio.from_signals(df['close'], buy_signal, sell_signal)"
   ]
  },
  {
   "cell_type": "code",
   "execution_count": null,
   "metadata": {},
   "outputs": [],
   "source": [
    "pf.plot().show()"
   ]
  },
  {
   "cell_type": "code",
   "execution_count": null,
   "metadata": {},
   "outputs": [],
   "source": [
    "pf.stats()"
   ]
  },
  {
   "cell_type": "code",
   "execution_count": null,
   "metadata": {},
   "outputs": [],
   "source": [
    "#Portifolio para trading\n",
    "#Setup Bollinger Bands + RSI\n",
    "\n",
    "buy_signal = (df[\"close\"] < df[\"lower_band\"]) & (df[\"rsi\"] < 20)\n",
    "sell_signal = (df[\"close\"] > df[\"upper_band\"]) & (df[\"rsi\"] > 80)\n",
    "\n",
    "pf = vbt.Portfolio.from_signals(df['close'], buy_signal, sell_signal)"
   ]
  },
  {
   "cell_type": "code",
   "execution_count": null,
   "metadata": {
    "is_executing": true
   },
   "outputs": [],
   "source": [
    "pf.plot().show()"
   ]
  },
  {
   "cell_type": "code",
   "execution_count": null,
   "metadata": {},
   "outputs": [],
   "source": [
    "pf.stats()"
   ]
  },
  {
   "cell_type": "code",
   "execution_count": null,
   "metadata": {},
   "outputs": [],
   "source": [
    "#Portifolio para trading\n",
    "#Setup RSI + EMA\n",
    "\n",
    "buy_signal = (df[\"rsi\"] < 20) & (df[\"ema_short\"] > df[\"ema_long\"])\n",
    "sell_signal = (df[\"rsi\"] > 80) & (df[\"ema_short\"] < df[\"ema_long\"])\n",
    "\n",
    "pf = vbt.Portfolio.from_signals(df['close'], buy_signal, sell_signal)"
   ]
  },
  {
   "cell_type": "code",
   "execution_count": null,
   "metadata": {},
   "outputs": [],
   "source": [
    "pf.plot().show()"
   ]
  },
  {
   "cell_type": "code",
   "execution_count": null,
   "metadata": {},
   "outputs": [],
   "source": [
    "pf.stats()"
   ]
  },
  {
   "cell_type": "code",
   "execution_count": null,
   "metadata": {
    "is_executing": true
   },
   "outputs": [],
   "source": [
    "#Portifolio para trading\n",
    "#Setup Bollinger Bands + RSI + EMA\n",
    "\n",
    "buy_signal = (df[\"close\"] < df[\"lower_band\"]) & (df[\"rsi\"] < 20) & (df[\"ema_short\"] > df[\"ema_long\"])\n",
    "sell_signal = (df[\"close\"] > df[\"upper_band\"]) & (df[\"rsi\"] > 80) & (df[\"ema_short\"] < df[\"ema_long\"])\n",
    "\n",
    "pf = vbt.Portfolio.from_signals(df['close'], buy_signal, sell_signal)"
   ]
  },
  {
   "cell_type": "code",
   "execution_count": null,
   "metadata": {},
   "outputs": [],
   "source": [
    "pf.plot().show()"
   ]
  },
  {
   "cell_type": "code",
   "execution_count": null,
   "metadata": {},
   "outputs": [],
   "source": [
    "pf.stats()"
   ]
  }
 ],
 "metadata": {
  "kernelspec": {
   "display_name": "Python 3 (ipykernel)",
   "language": "python",
   "name": "python3"
  },
  "language_info": {
   "codemirror_mode": {
    "name": "ipython",
    "version": 3
   },
   "file_extension": ".py",
   "mimetype": "text/x-python",
   "name": "python",
   "nbconvert_exporter": "python",
   "pygments_lexer": "ipython3",
   "version": "3.10.1"
  }
 },
 "nbformat": 4,
 "nbformat_minor": 1
}
